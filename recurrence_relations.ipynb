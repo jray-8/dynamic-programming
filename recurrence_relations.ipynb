{
 "cells": [
  {
   "cell_type": "markdown",
   "id": "d1c3fc31",
   "metadata": {},
   "source": [
    "# __Dynamic Programming (DP)__\n",
    "\n",
    "- A technique used to solve problems by breaking them into smaller subproblems, solving each once, and reusing the solutions.\n",
    "\n",
    "Let us Define this Recurrence Relation:\n",
    "\n",
    "$R_0 = 3 \\\\ R_1 = 5 \\\\ R_n = R_{n-1} - R_{n-2} + n \\quad \\text{for} \\ n \\ge 2$"
   ]
  },
  {
   "cell_type": "code",
   "execution_count": 1,
   "id": "8f1b2575",
   "metadata": {},
   "outputs": [
    {
     "name": "stdout",
     "output_type": "stream",
     "text": [
      "r_0 = 3\n",
      "r_1 = 5\n",
      "r_2 = 4\n",
      "r_3 = 2\n",
      "r_4 = 2\n",
      "r_5 = 5\n",
      "r_6 = 9\n",
      "r_7 = 11\n",
      "r_8 = 10\n",
      "r_9 = 8\n"
     ]
    }
   ],
   "source": [
    "# Recursive solution\n",
    "# \tT(n) = O(2^n)\n",
    "# \tS(n) = O(n)\n",
    "\n",
    "def r(n):\n",
    "\tif n == 0:\n",
    "\t\treturn 3\n",
    "\telif n == 1:\n",
    "\t\treturn 5\n",
    "\treturn r(n-1) - r(n-2) + n\n",
    "\n",
    "for i in range(10):\n",
    "\tprint(f'r_{i} = {r(i)}')"
   ]
  },
  {
   "cell_type": "code",
   "execution_count": 2,
   "id": "0ee8c7c3",
   "metadata": {},
   "outputs": [
    {
     "name": "stdout",
     "output_type": "stream",
     "text": [
      "CPU times: total: 5.16 s\n",
      "Wall time: 5.19 s\n"
     ]
    },
    {
     "data": {
      "text/plain": [
       "35"
      ]
     },
     "execution_count": 2,
     "metadata": {},
     "output_type": "execute_result"
    }
   ],
   "source": [
    "# Starting to take longer to solve at just n=35\n",
    "%time r(35)"
   ]
  },
  {
   "cell_type": "markdown",
   "id": "2294a404",
   "metadata": {},
   "source": [
    "There are 2 main approaches to solving problems using dynamic programming:\n",
    "\n",
    "1. __Top-down approach__\n",
    "\t- Use memoization\n",
    "\n",
    "\t- Recursive\n",
    "\n",
    "\t- Start with the full problem, then recursively ask for the smaller subproblems as they are needed\n",
    "\n",
    "2. __Bottom-up approach__\n",
    "\t- Use tabulation\n",
    "\n",
    "\t- Iterative\n",
    "\n",
    "\t- Solves the individual subproblems first, and builds up towards the final solution\n",
    "\n",
    "## __Memoization__\n",
    "\n",
    "- A technique to optimize repeated calls to _pure functions_ by caching the results after they are computed once, such that future function calls with the same input simply return the stored result instead of recomputing it.\n",
    "\n",
    "- A __pure function__ is a well-defined function (every input maps to a unique output) that doesn't modify its input or anything outside of its scope.\n",
    "\n",
    "## __Tabulation__\n",
    "\n",
    "- A method of problem solving where you store the results of subproblems in a table (array), and iteratively use the previous solutions to get the next solution in the table."
   ]
  },
  {
   "cell_type": "code",
   "execution_count": 3,
   "id": "4e37bd98",
   "metadata": {},
   "outputs": [],
   "source": [
    "# Memoization (Top-down method)\n",
    "# \tT(n) = O(n)\n",
    "# \tS(n) = O(n)  (memo + recursion stack)\n",
    "\n",
    "# Memory reserved for the sequence. Let memo[n] = r_n\n",
    "memo = [None] * 10_000\n",
    "\n",
    "def r_memoize(n, memo):\n",
    "\tif memo[n] is not None:\n",
    "\t\treturn memo[n]\n",
    "\tif n == 0:\n",
    "\t\tresult =  3\n",
    "\telif n == 1:\n",
    "\t\tresult = 5\n",
    "\telse:\n",
    "\t\tresult = r_memoize(n-1, memo) - r_memoize(n-2, memo) + n\n",
    "\tmemo[n] = result # cache output\n",
    "\treturn memo[n]"
   ]
  },
  {
   "cell_type": "code",
   "execution_count": 4,
   "id": "4a40b53e",
   "metadata": {},
   "outputs": [],
   "source": [
    "# Tabulation (Bottom-up method)\n",
    "# \tT(n) = O(n)\n",
    "# \tS(n) = O(n)\n",
    "\n",
    "def r_tabulate(n):\n",
    "\tif n == 0:\n",
    "\t\treturn 3\n",
    "\telif n == 1:\n",
    "\t\treturn 5\n",
    "\t\n",
    "\ttab = [3, 5]\n",
    "\tfor i in range(2, n + 1):\n",
    "\t\ttab.append(tab[i-1] - tab[i-2] + i)\n",
    "\treturn tab[n]"
   ]
  },
  {
   "cell_type": "code",
   "execution_count": 5,
   "id": "db343296",
   "metadata": {},
   "outputs": [
    {
     "name": "stdout",
     "output_type": "stream",
     "text": [
      "CPU times: total: 0 ns\n",
      "Wall time: 0 ns\n"
     ]
    },
    {
     "data": {
      "text/plain": [
       "998"
      ]
     },
     "execution_count": 5,
     "metadata": {},
     "output_type": "execute_result"
    }
   ],
   "source": [
    "# Test Memoization\n",
    "%time r_memoize(1000, memo)"
   ]
  },
  {
   "cell_type": "code",
   "execution_count": 6,
   "id": "9fdfb827",
   "metadata": {},
   "outputs": [
    {
     "name": "stdout",
     "output_type": "stream",
     "text": [
      "CPU times: total: 0 ns\n",
      "Wall time: 0 ns\n"
     ]
    },
    {
     "data": {
      "text/plain": [
       "998"
      ]
     },
     "execution_count": 6,
     "metadata": {},
     "output_type": "execute_result"
    }
   ],
   "source": [
    "# Test Tabulation\n",
    "%time r_tabulate(1000)"
   ]
  },
  {
   "cell_type": "markdown",
   "id": "07ea82a1",
   "metadata": {},
   "source": [
    "It's worth noting that tabulation may be slightly faster than memoization since  \n",
    "it runs in a single stack frame—but memoization uses recursion and must deal with the overhead of setting up another stack frame each call.\n",
    "\n",
    "Tabulation, then, has no risk of stack overflow.\n",
    "\n",
    "Additionally, tabulation has the option of being more space-efficient since it builds the solution iteratively.  \n",
    "It can therefore choose to overwrite memory as it progresses for certain problems.\n",
    "\n",
    "Here is an example:"
   ]
  },
  {
   "cell_type": "code",
   "execution_count": 7,
   "id": "710dd9e0",
   "metadata": {},
   "outputs": [],
   "source": [
    "# Constant-space Tabulation\n",
    "#\tT(n) = O(n)\n",
    "# \tS(n) = O(1)\n",
    "\n",
    "def r_tabulate_constant(n):\n",
    "\tif n == 0:\n",
    "\t\treturn 3\n",
    "\telif n == 1:\n",
    "\t\treturn 5\n",
    "\t\n",
    "\t# We only need to know (n-1) and (n-2) at any stage of the iteration\n",
    "\tprev_2 = 3\n",
    "\tprev_1 = 5\n",
    "\tfor i in range(2, n + 1):\n",
    "\t\ttemp = prev_1\n",
    "\t\tprev_1 = prev_1 - prev_2 + i\n",
    "\t\tprev_2 = temp\n",
    "\treturn prev_1"
   ]
  },
  {
   "cell_type": "code",
   "execution_count": null,
   "id": "3cae1a11",
   "metadata": {},
   "outputs": [
    {
     "name": "stdout",
     "output_type": "stream",
     "text": [
      "CPU times: total: 78.1 ms\n",
      "Wall time: 84 ms\n"
     ]
    },
    {
     "data": {
      "text/plain": [
       "999998"
      ]
     },
     "execution_count": 8,
     "metadata": {},
     "output_type": "execute_result"
    }
   ],
   "source": [
    "# Only uses 4 integers in memory\n",
    "%time r_tabulate_constant(1_000_000)"
   ]
  }
 ],
 "metadata": {
  "kernelspec": {
   "display_name": "Python 3",
   "language": "python",
   "name": "python3"
  },
  "language_info": {
   "codemirror_mode": {
    "name": "ipython",
    "version": 3
   },
   "file_extension": ".py",
   "mimetype": "text/x-python",
   "name": "python",
   "nbconvert_exporter": "python",
   "pygments_lexer": "ipython3",
   "version": "3.10.1"
  }
 },
 "nbformat": 4,
 "nbformat_minor": 5
}
